{
 "cells": [
  {
   "cell_type": "code",
   "execution_count": 1,
   "id": "818a71cc",
   "metadata": {},
   "outputs": [],
   "source": [
    "from scipy.stats import mannwhitneyu, ttest_ind\n",
    "from statsmodels.stats.multitest import multipletests\n",
    "import statsmodels.api as sm\n",
    "from statsmodels.formula.api import ols\n",
    "import scikit_posthocs as sp\n",
    "import pandas as pd\n",
    "import numpy as np\n",
    "import seaborn as sns\n",
    "import plotly.graph_objects as go\n",
    "import plotly.express as px\n",
    "from pylab import *\n",
    "import numpy as np\n",
    "import matplotlib.pyplot as plt"
   ]
  },
  {
   "cell_type": "code",
   "execution_count": 2,
   "id": "71d7e8e4",
   "metadata": {},
   "outputs": [],
   "source": [
    "df_homecage = pd.read_csv('HomecageKmeansMeanClusters/Clustersk_120_2_homecage.csv')\n",
    "df_overlapping = pd.read_csv('OverlappingKmeansMeanClusters/Clustersk_120_2_overlapping.csv')\n",
    "df_random = pd.read_csv('RandomKmeansMeanClusters/Clustersk_120_2_random.csv')\n",
    "df_stable = pd.read_csv('StableKmeansMeanClusters/Clustersk_120_2_stable.csv')\n",
    "\n",
    "df_homecage_h = pd.read_csv('HomecageHMMMeanClusters/Clustershmm_120_2.csv')\n",
    "df_overlapping_h = pd.read_csv('OverlappingHMMMeanClusters/Clustershmm_120_2_overlapping.csv')\n",
    "df_stable_h = pd.read_csv('StableHMMMeanClusters/Clustershmm_120_2_stable.csv')\n",
    "df_random_h = pd.read_csv('RandomHMMMeanClusters/Clustershmm_120_2_random.csv')"
   ]
  },
  {
   "cell_type": "code",
   "execution_count": 3,
   "id": "2970281d",
   "metadata": {},
   "outputs": [],
   "source": [
    "df_stats=pd.DataFrame(columns = ['Function','Mann-Whitney U1','Mann-Whitney P', 'Mean-HMM', 'Mean-KMeans'])"
   ]
  },
  {
   "cell_type": "code",
   "execution_count": 4,
   "id": "c7ea0b4c",
   "metadata": {},
   "outputs": [],
   "source": [
    "def whitney(x,y):\n",
    "#     print(x,y)\n",
    "    return mannwhitneyu(x, y, nan_policy='omit')"
   ]
  },
  {
   "cell_type": "code",
   "execution_count": 5,
   "id": "cfdfbb85",
   "metadata": {},
   "outputs": [],
   "source": [
    "def t_test(x,y):\n",
    "    return ttest_ind(x,y)"
   ]
  },
  {
   "cell_type": "code",
   "execution_count": 9,
   "id": "353ded64",
   "metadata": {
    "scrolled": false
   },
   "outputs": [
    {
     "name": "stderr",
     "output_type": "stream",
     "text": [
      "/tmp/ipykernel_4714/3040609530.py:29: FutureWarning: The frame.append method is deprecated and will be removed from pandas in a future version. Use pandas.concat instead.\n",
      "  df_stats=df_stats.append({'Function': column[i], 'Mann-Whitney U1': res[0],'Mann-Whitney P': res[1], 'Mean-HMM':mean_h, 'Mean-KMeans':mean }, ignore_index=True)\n",
      "/tmp/ipykernel_4714/3040609530.py:29: FutureWarning: The frame.append method is deprecated and will be removed from pandas in a future version. Use pandas.concat instead.\n",
      "  df_stats=df_stats.append({'Function': column[i], 'Mann-Whitney U1': res[0],'Mann-Whitney P': res[1], 'Mean-HMM':mean_h, 'Mean-KMeans':mean }, ignore_index=True)\n",
      "/tmp/ipykernel_4714/3040609530.py:29: FutureWarning: The frame.append method is deprecated and will be removed from pandas in a future version. Use pandas.concat instead.\n",
      "  df_stats=df_stats.append({'Function': column[i], 'Mann-Whitney U1': res[0],'Mann-Whitney P': res[1], 'Mean-HMM':mean_h, 'Mean-KMeans':mean }, ignore_index=True)\n",
      "/tmp/ipykernel_4714/3040609530.py:29: FutureWarning: The frame.append method is deprecated and will be removed from pandas in a future version. Use pandas.concat instead.\n",
      "  df_stats=df_stats.append({'Function': column[i], 'Mann-Whitney U1': res[0],'Mann-Whitney P': res[1], 'Mean-HMM':mean_h, 'Mean-KMeans':mean }, ignore_index=True)\n"
     ]
    },
    {
     "data": {
      "image/png": "[encoded data removed]",
      "text/plain": [
       "<Figure size 432x288 with 1 Axes>"
      ]
     },
     "metadata": {
      "needs_background": "light"
     },
     "output_type": "display_data"
    },
    {
     "data": {
      "text/html": [
       "<div>\n",
       "<style scoped>\n",
       "    .dataframe tbody tr th:only-of-type {\n",
       "        vertical-align: middle;\n",
       "    }\n",
       "\n",
       "    .dataframe tbody tr th {\n",
       "        vertical-align: top;\n",
       "    }\n",
       "\n",
       "    .dataframe thead th {\n",
       "        text-align: right;\n",
       "    }\n",
       "</style>\n",
       "<table border=\"1\" class=\"dataframe\">\n",
       "  <thead>\n",
       "    <tr style=\"text-align: right;\">\n",
       "      <th></th>\n",
       "      <th>Function</th>\n",
       "      <th>Mann-Whitney U1</th>\n",
       "      <th>Mann-Whitney P</th>\n",
       "      <th>Mean-HMM</th>\n",
       "      <th>Mean-KMeans</th>\n",
       "    </tr>\n",
       "  </thead>\n",
       "  <tbody>\n",
       "    <tr>\n",
       "      <th>0</th>\n",
       "      <td>MahalanobisDistance_HPC_Inter_cluster</td>\n",
       "      <td>1466.0</td>\n",
       "      <td>0.460585</td>\n",
       "      <td>17.78149</td>\n",
       "      <td>18.139942</td>\n",
       "    </tr>\n",
       "    <tr>\n",
       "      <th>1</th>\n",
       "      <td>MahalanobisDistance_HPC_Intra_Cluster</td>\n",
       "      <td>1597.0</td>\n",
       "      <td>0.111939</td>\n",
       "      <td>17.207834</td>\n",
       "      <td>17.711504</td>\n",
       "    </tr>\n",
       "    <tr>\n",
       "      <th>2</th>\n",
       "      <td>MahalanobisDistance_PFC_Inter_cluster</td>\n",
       "      <td>1309.0</td>\n",
       "      <td>0.782317</td>\n",
       "      <td>17.889264</td>\n",
       "      <td>18.374007</td>\n",
       "    </tr>\n",
       "    <tr>\n",
       "      <th>3</th>\n",
       "      <td>MahalanobisDistance_PFC_Intra_Cluster</td>\n",
       "      <td>1394.0</td>\n",
       "      <td>0.787315</td>\n",
       "      <td>17.31025</td>\n",
       "      <td>17.705298</td>\n",
       "    </tr>\n",
       "  </tbody>\n",
       "</table>\n",
       "</div>"
      ],
      "text/plain": [
       "                                Function Mann-Whitney U1 Mann-Whitney P  \\\n",
       "0  MahalanobisDistance_HPC_Inter_cluster          1466.0       0.460585   \n",
       "1  MahalanobisDistance_HPC_Intra_Cluster          1597.0       0.111939   \n",
       "2  MahalanobisDistance_PFC_Inter_cluster          1309.0       0.782317   \n",
       "3  MahalanobisDistance_PFC_Intra_Cluster          1394.0       0.787315   \n",
       "\n",
       "    Mean-HMM Mean-KMeans  \n",
       "0   17.78149   18.139942  \n",
       "1  17.207834   17.711504  \n",
       "2  17.889264   18.374007  \n",
       "3   17.31025   17.705298  "
      ]
     },
     "execution_count": 9,
     "metadata": {},
     "output_type": "execute_result"
    }
   ],
   "source": [
    "# Retrieve condition, kmeans values and hmm values\n",
    "\n",
    "df_0=pd.concat([df_homecage,df_overlapping,df_random,df_stable])\n",
    "df_1=pd.concat([df_homecage_h,df_overlapping_h,df_random_h,df_stable_h])\n",
    "\n",
    "column=['MahalanobisDistance_HPC_Inter_cluster', 'MahalanobisDistance_HPC_Intra_Cluster',\\\n",
    "         'MahalanobisDistance_PFC_Inter_cluster', 'MahalanobisDistance_PFC_Intra_Cluster']\n",
    "#         'PearsonDistance_HPC_Inter_cluster', 'PearsonDistance_HPC_Intra_Cluster',\\\n",
    "#          'PearsonDistance_PFC_Inter_cluster', 'PearsonDistance_PFC_Intra_Cluster']\n",
    "\n",
    "menMeans=[]\n",
    "menStd= []\n",
    "menMeansh=[]\n",
    "menStdh= []\n",
    "w=[]\n",
    "for i in range(4):\n",
    "    # Retrieve means, standard deviation and similarity score\n",
    "    res= whitney(df_0[column[i]].array, df_1[column[i]].array)\n",
    "    hmm_mean_hpc_inter = df_1[column[i]].mean()\n",
    "    mean = df_0[column[i]].mean()\n",
    "    std=df_0[column[i]].std()\n",
    "    mean_h = df_1[column[i]].mean()\n",
    "    std_h=df_1[column[i]].std()\n",
    "    \n",
    "    menMeans.append(mean)\n",
    "    menMeansh.append(mean_h)\n",
    "    menStd.append(std)\n",
    "    menStdh.append(std_h)\n",
    "    w.append(res[1])\n",
    "    # Add data to dataframe\n",
    "    df_stats=df_stats.append({'Function': column[i], 'Mann-Whitney U1': res[0],'Mann-Whitney P': res[1], 'Mean-HMM':mean_h, 'Mean-KMeans':mean }, ignore_index=True)\n",
    "\n",
    "# Plot data (adjust accordingly)\n",
    "ind  = np.arange(4)    # the x locations for the groups\n",
    "width= 0.5\n",
    "labels = ('Inter HPC', 'Intra HPC', 'Inter PFC', 'Intra PFC')\n",
    "\n",
    "bar_kwargs = {'linewidth':2,'zorder':5}\n",
    "err_kwargs = {'zorder':0,'fmt':'none','linewidth':2,'ecolor':'k'}  #for matplotlib >= v1.4 use 'fmt':'none' instead\n",
    "\n",
    "fig, ax = plt.subplots()\n",
    "ax.p1 = plt.bar(ind-0.7/2,menMeans, width =width/2, color='darkred', alpha=0.7, label= 'K-Means', **bar_kwargs)\n",
    "ax.p2 = plt.bar(ind, menMeansh, width =width/2, color='teal',label='HMM',alpha=0.7, **bar_kwargs)\n",
    "\n",
    "ax.errs = plt.errorbar(ind-0.7/2, menMeans, yerr=menStd,**err_kwargs,capsize=4)\n",
    "ax.errs2 = plt.errorbar(ind, menMeansh, yerr=menStdh,**err_kwargs,capsize=4)\n",
    "\n",
    "# Custom function to draw the diff bars\n",
    "def precision_round(number, digits=3):\n",
    "    return '{:0.3e}'.format(number)\n",
    "\n",
    "def label_diff(i,j,text,X,Y, off=0, up=0, offnum=0, sett=0):\n",
    "    x = (X[i]+X[j])/2\n",
    "    y = 1.1*max(Y[i], Y[j])\n",
    "    dx = abs(X[i]-X[j])\n",
    "\n",
    "    props = {'connectionstyle':'bar','arrowstyle':'-',\\\n",
    "                 'shrinkA':5,'shrinkB':5,'linewidth':2}\n",
    "    ax.annotate(text, xy=(X[i]-offnum,y+5+up), zorder=10)\n",
    "    ax.annotate('', xy=(X[i]-off,y+3), xytext=(X[j]-sett,y+3), arrowprops=props)\n",
    "\n",
    "# Call the function\n",
    "label_diff(0,1,'       N.S.\\n p=%s'%precision_round(w[0]),[ind[0]-0.3, ind[0]],[menMeans[0], menMeansh[0]], offnum=0.2)\n",
    "label_diff(0,1,'       N.S.\\n p=%s'%precision_round(w[1]),[ind[1]-0.3, ind[1]],[menMeans[1], menMeansh[1]], offnum=0.2)\n",
    "label_diff(0,1,'       N.S.\\n p=%s'%precision_round(w[2]),[ind[2]-0.3, ind[2]],[menMeans[2], menMeansh[2]], offnum=0.2)\n",
    "label_diff(0,1,'       N.S.\\n p=%s'%precision_round(w[3]),[ind[3]-0.3, ind[3]],[menMeans[3], menMeansh[3]], offnum=0.2)\n",
    "\n",
    "\n",
    "plt.ylim(ymax=35)\n",
    "plt.xticks(ind-0.2, labels, color='k')\n",
    "ylabel('Mahalanobis Distance')\n",
    "legend()\n",
    "title('Model Performance across regions')\n",
    "savefig('Model Comaparison')\n",
    "show()\n",
    "\n",
    "df_stats"
   ]
  },
  {
   "cell_type": "code",
   "execution_count": 17,
   "id": "d5cc294f",
   "metadata": {},
   "outputs": [],
   "source": [
    "df_stats.to_csv('Stats_hmm_k.csv')"
   ]
  }
 ],
 "metadata": {
  "kernelspec": {
   "display_name": "Python 3 (ipykernel)",
   "language": "python",
   "name": "python3"
  },
  "language_info": {
   "codemirror_mode": {
    "name": "ipython",
    "version": 3
   },
   "file_extension": ".py",
   "mimetype": "text/x-python",
   "name": "python",
   "nbconvert_exporter": "python",
   "pygments_lexer": "ipython3",
   "version": "3.8.10"
  }
 },
 "nbformat": 4,
 "nbformat_minor": 5
}

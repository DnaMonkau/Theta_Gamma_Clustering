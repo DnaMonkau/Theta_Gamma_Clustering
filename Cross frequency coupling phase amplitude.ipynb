{
 "cells": [
  {
   "cell_type": "code",
   "execution_count": null,
   "id": "cba65a48",
   "metadata": {
    "id": "cba65a48"
   },
   "outputs": [],
   "source": [
    "import numpy as np\n",
    "import pandas as pd\n",
    "from scipy.io import *\n",
    "from pylab import *\n",
    "from scipy.signal import *\n",
    "import scipy.signal as signal"
   ]
  },
  {
   "cell_type": "code",
   "execution_count": null,
   "id": "55ff0955",
   "metadata": {
    "id": "55ff0955"
   },
   "outputs": [],
   "source": [
    "df_filtered=pd.read_csv('Merged_FilteredBands_2_100_500_10.csv')"
   ]
  },
  {
   "cell_type": "code",
   "execution_count": null,
   "id": "ef3d92fc",
   "metadata": {
    "id": "ef3d92fc",
    "outputId": "89a7811d-65d4-4a6e-cf61-01827c379d94"
   },
   "outputs": [],
   "source": [
    "df_filtered"
   ]
  },
  {
   "cell_type": "code",
   "execution_count": null,
   "id": "4870a8cc",
   "metadata": {
    "id": "4870a8cc"
   },
   "outputs": [],
   "source": [
    "\n",
    "pvalues=pd.DataFrame(columns =['Rat','Region','Theta_SlowGamma', 'Theta_MediumGamma', 'Theta_FastGamma'])\n",
    "# pvalues['P_values'] = pvalues['P_values'].astype(object)\n"
   ]
  },
  {
   "cell_type": "code",
   "execution_count": null,
   "id": "a0545d06",
   "metadata": {
    "id": "a0545d06",
    "outputId": "f410d115-8141-43a6-c8e3-99212d4e3498",
    "scrolled": true
   },
   "outputs": [],
   "source": [
    "def pval(rat,d, vlos, vhi, vha, vhu, region, M=False):        \n",
    "    p1=0\n",
    "    p2=0\n",
    "    p3=0\n",
    "    if M== False:\n",
    "        M=len(vlos.values)\n",
    "    for i in range(M):\n",
    "        #get filtered bands from csv\n",
    "        vlo = vlos.values[i]\n",
    "        vhis = vhi.values[i]\n",
    "        vhus = vhu.values[i]\n",
    "        vhas = vha.values[i]\n",
    "        data = d.values[i]\n",
    "        Vlo = np.array([float(num) for num in vlo.split(',')[1:-1]])\n",
    "        Vhi = np.array([float(num) for num in vhis.split(',')[1:-1]])\n",
    "        Vhu =np.array([float(num) for num in vhus.split(',')[1:-1]])\n",
    "        Vha = np.array([float(num) for num in vhas.split(',')[1:-1]])\n",
    "        data = np.array([float(num) for num in data.split(',')[1:-1]])\n",
    "        \n",
    "        phi = angle(signal.hilbert(Vlo))  # Compute phase of low-freq signal\n",
    "        amp1 = abs(signal.hilbert(Vhi))       # Compute amplitude of high-freq signal\n",
    "        amp2 = abs(signal.hilbert(Vha))       # Compute amplitude of high-freq signal\n",
    "        amp3 = abs(signal.hilbert(Vhu))       # Compute amplitude of high-freq signal\n",
    "        p_bins = arange(-pi, pi, 0.1)\n",
    "        a_mean = zeros(size(p_bins)-1)\n",
    "        a2_mean = zeros(size(p_bins)-1)\n",
    "        a3_mean = zeros(size(p_bins)-1)\n",
    "        p_mean = zeros(size(p_bins)-1)\n",
    "        \n",
    "        for k in range(size(p_bins)-1):     #For each phase bin,\n",
    "            pL = p_bins[k]                  #... lower phase limit,\n",
    "            pR = p_bins[k+1]                #... upper phase limit.\n",
    "            indices=(phi>=pL) & (phi<pR)    #Find phases falling in bin,\n",
    "            a_mean[k] = mean(amp1[indices])  #... compute mean amplitude\n",
    "            a2_mean[k] = mean(amp2[indices])  #... compute mean amplitude,\n",
    "            a3_mean[k] = mean(amp3[indices])  #... compute mean amplitude,\n",
    "            p_mean[k] = mean([pL, pR])      #... save center phase.\n",
    "            \n",
    "        h = max(a_mean)-min(a_mean)\n",
    "        h2 = max(a2_mean)-min(a2_mean)\n",
    "        h3 = max(a3_mean)-min(a3_mean)\n",
    "        n_surrogates = 1000;                    #Define no. of surrogates.\n",
    "        hS = zeros(n_surrogates) \n",
    "        hS2 = zeros(n_surrogates) \n",
    "        hS3 = zeros(n_surrogates) \n",
    "        N=len(data)\n",
    "        #Vector to hold h results.\n",
    "        for ns in range(n_surrogates):          #For each surrogate,\n",
    "            ampS = amp1[randint(0,N,N)]          #Resample amplitude,\n",
    "            ampS2 = amp2[randint(0,N,N)]          #Resample amplitude,\n",
    "            ampS3 = amp3[randint(0,N,N)]          #Resample amplitude,\n",
    "            p_bins = arange(-pi, pi, 0.1)       #Define the phase bins\n",
    "            a_mean = zeros(size(p_bins)-1)      #Vector for average amps.\n",
    "            a2_mean = zeros(size(p_bins)-1)\n",
    "            a3_mean = zeros(size(p_bins)-1)\n",
    "            p_mean = zeros(size(p_bins)-1)      #Vector for phase bins.\n",
    "            \n",
    "            for k in range(size(p_bins)-1):\n",
    "                pL = p_bins[k]                  #... lower phase limit,\n",
    "                pR = p_bins[k+1]                #... upper phase limit.\n",
    "                indices=(phi>=pL) & (phi<pR)    #Find phases falling in bin,\n",
    "                a_mean[k] = mean(ampS[indices]) #... compute mean amplitude,\n",
    "                a2_mean[k] = mean(ampS2[indices])  #... compute mean amplitude,\n",
    "                a3_mean[k] = mean(ampS3[indices])\n",
    "                p_mean[k] = mean([pL, pR])      #... save center phase.\n",
    "                \n",
    "            hS[ns] = max(a_mean)-min(a_mean)    # Store surrogate h.\n",
    "            hS2[ns] = max(a2_mean)-min(a2_mean)    # Store surrogate h.\n",
    "            hS3[ns] = max(a3_mean)-min(a3_mean)    # Store surrogate h.\n",
    "            \n",
    "        # show()\n",
    "        counts1, _, _ = hist(hS, label='surrogates slow gamma')               # Plot the histogram of hS, and save the bin counts.\n",
    "        counts2, _, _ = hist(hS2, label='surrogates medium gamma')               # Plot the histogram of hS, and save the bin counts.\n",
    "        counts3, _, _ = hist(hS3, label='surrogates fast gamma')               # Plot the histogram of hS, and save the bin counts.\n",
    "        vlines(h, 0, max(counts1), colors='red', label='h slow gamma', lw=2)  # Plot the observed h,\n",
    "        vlines(h2, 0, max(counts2), colors='green', label='h medium gamma', lw=2)  # Plot the observed h,\n",
    "        vlines(h3, 0, max(counts3), colors='black', label='h fast gamma', lw=2)  # Plot the observed h,\n",
    "        \n",
    "#         legend(); \n",
    "#         savefig('Rat%s_Averaged_100_CFC_%s_nofast'%(rat, region))\n",
    "#         show()\n",
    "        p1 += sum([s > h for s in hS]) / len(hS)\n",
    "        p2 += sum([s > h2 for s in hS2]) / len(hS2)\n",
    "        p3 += sum([s > h3 for s in hS3]) / len(hS3)\n",
    "        \n",
    "        pvalues = {'Rat':rat,'Region':region,'Theta_SlowGamma':p1/M, 'Theta_MediumGamma':p2/M,'Theta_FastGamma':p3/M}\n",
    "    return pvalues"
   ]
  },
  {
   "cell_type": "code",
   "execution_count": null,
   "id": "852379e6",
   "metadata": {
    "scrolled": true
   },
   "outputs": [],
   "source": [
    "for rat in range(1, 10):\n",
    "    if rat!=5:\n",
    "        vlos = df_filtered.loc[((df_filtered.Rat== rat)&(df_filtered.Region =='PFC')),'Theta']\n",
    "        vhis=df_filtered.loc[((df_filtered.Rat== rat)&(df_filtered.Region =='PFC')),'Slow_Gamma']\n",
    "        vhas=df_filtered.loc[((df_filtered.Rat== rat)&(df_filtered.Region =='PFC')),'Medium_Gamma']\n",
    "        vhus =df_filtered.loc[((df_filtered.Rat== rat)&(df_filtered.Region =='PFC')),'Fast_Gamma']\n",
    "        data = df_filtered.loc[((df_filtered.Rat== rat)&(df_filtered.Region =='PFC')),'Rem_Data']\n",
    "        pvalues=pvalues.append(pval(rat,data, vlos, vhis, vhas, vhus, 'PFC'), ignore_index=True)"
   ]
  },
  {
   "cell_type": "code",
   "execution_count": null,
   "id": "485de4b0",
   "metadata": {},
   "outputs": [],
   "source": [
    "for rat in range(1,10):\n",
    "    if rat!=5:\n",
    "        vlos = df_filtered.loc[((df_filtered.Rat== rat)&(df_filtered.Region =='HPC')),'Theta']\n",
    "        vhis=df_filtered.loc[((df_filtered.Rat== rat)&(df_filtered.Region =='HPC')),'Slow_Gamma']\n",
    "        vhas=df_filtered.loc[((df_filtered.Rat== rat)&(df_filtered.Region =='HPC')),'Medium_Gamma']\n",
    "        vhus =df_filtered.loc[((df_filtered.Rat== rat)&(df_filtered.Region =='HPC')),'Fast_Gamma']\n",
    "        data = df_filtered.loc[((df_filtered.Rat== rat)&(df_filtered.Region =='HPC')),'Rem_Data']\n",
    "        pvalues=pvalues.append(pval(rat,data, vlos, vhis, vhas, vhus, 'HPC'), ignore_index=True)"
   ]
  },
  {
   "cell_type": "code",
   "execution_count": null,
   "id": "87942bda",
   "metadata": {},
   "outputs": [],
   "source": [
    "pvalues=pvalues.sort_values('Rat')"
   ]
  },
  {
   "cell_type": "code",
   "execution_count": null,
   "id": "e08a252f",
   "metadata": {
    "id": "e08a252f"
   },
   "outputs": [],
   "source": [
    "pvalues.to_csv('Data_Averaged_CFC_Random_Average_Overlapping.csv')"
   ]
  },
  {
   "cell_type": "code",
   "execution_count": null,
   "id": "9d9af55c",
   "metadata": {
    "id": "9d9af55c"
   },
   "outputs": [],
   "source": [
    "# p_bins = arange(-pi, pi, 0.1)\n",
    "# a_mean = zeros(size(p_bins)-1)\n",
    "# p_mean = zeros(size(p_bins)-1)\n",
    "# for k in range(size(p_bins)-1):     #For each phase bin,\n",
    "#     pL = p_bins[k]                  #... lower phase limit,\n",
    "#     pR = p_bins[k+1]                #... upper phase limit.\n",
    "#     indices=(phi>=pL) & (phi<pR)    #Find phases falling in bin,\n",
    "#     a_mean[k] = mean(amp1[indices])  #... compute mean amplitude,\n",
    "#     p_mean[k] = mean([pL, pR])      #... save center phase.\n",
    "# plot(p_mean, a_mean)                #Plot the phase versus amplitude,\n",
    "# ylabel('High-frequency amplitude')  #... with axes labeled.\n",
    "# xlabel('Low-frequency phase');\n"
   ]
  },
  {
   "cell_type": "code",
   "execution_count": null,
   "id": "0c56efa7",
   "metadata": {
    "id": "0c56efa7",
    "outputId": "7d6a10d7-451c-431b-96b3-0fca79979b5c"
   },
   "outputs": [],
   "source": [
    "# h = max(a_mean)-min(a_mean)\n",
    "# n_surrogates = 1000;                    #Define no. of surrogates.\n",
    "# hS = zeros(n_surrogates) \n",
    "# N=len(data)\n",
    "# #Vector to hold h results.\n",
    "# for ns in range(n_surrogates):          #For each surrogate,\n",
    "#     ampS = amp1[randint(0,N,N)]          #Resample amplitude,\n",
    "#     p_bins = arange(-pi, pi, 0.1)       #Define the phase bins\n",
    "#     a_mean = zeros(size(p_bins)-1)      #Vector for average amps.\n",
    "#     p_mean = zeros(size(p_bins)-1)      #Vector for phase bins.\n",
    "#     for k in range(size(p_bins)-1):\n",
    "#         pL = p_bins[k]                  #... lower phase limit,\n",
    "#         pR = p_bins[k+1]                #... upper phase limit.\n",
    "#         indices=(phi>=pL) & (phi<pR)    #Find phases falling in bin,\n",
    "#         a_mean[k] = mean(ampS[indices]) #... compute mean amplitude,\n",
    "#         p_mean[k] = mean([pL, pR])      #... save center phase.\n",
    "#     hS[ns] = max(a_mean)-min(a_mean)    # Store surrogate h.\n",
    "# show()\n",
    "# counts, _, _ = hist(hS, label='surrogates')               # Plot the histogram of hS, and save the bin counts.\n",
    "# vlines(h, 0, max(counts), colors='red', label='h', lw=2)  # Plot the observed h,\n",
    "# legend(); \n",
    "# show()\n",
    "# p = sum([s > h for s in hS]) / len(hS)\n",
    "# print(p)"
   ]
  },
  {
   "cell_type": "code",
   "execution_count": null,
   "id": "f0ba1d7e",
   "metadata": {},
   "outputs": [],
   "source": []
  }
 ],
 "metadata": {
  "colab": {
   "collapsed_sections": [],
   "name": "Cross frequency coupling phase amplitude.ipynb",
   "provenance": []
  },
  "kernelspec": {
   "display_name": "Python 3 (ipykernel)",
   "language": "python",
   "name": "python3"
  },
  "language_info": {
   "codemirror_mode": {
    "name": "ipython",
    "version": 3
   },
   "file_extension": ".py",
   "mimetype": "text/x-python",
   "name": "python",
   "nbconvert_exporter": "python",
   "pygments_lexer": "ipython3",
   "version": "3.8.10"
  }
 },
 "nbformat": 4,
 "nbformat_minor": 5
}

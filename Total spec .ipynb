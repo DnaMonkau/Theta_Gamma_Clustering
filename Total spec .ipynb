{
 "cells": [
  {
   "cell_type": "code",
   "execution_count": null,
   "id": "517fb5ec",
   "metadata": {},
   "outputs": [],
   "source": [
    "import numpy as np\n",
    "import pandas as pd\n",
    "from scipy.io import *\n",
    "from pylab import *\n",
    "from scipy.signal import *\n",
    "from pandas import DataFrame as df"
   ]
  },
  {
   "cell_type": "code",
   "execution_count": null,
   "id": "bf296d46",
   "metadata": {},
   "outputs": [],
   "source": [
    "#pfc\n",
    "dataframe_pfc_conrol=pd.read_csv('PFC_Control.csv', sep=',')\n",
    "dataframe_pfc_conrol=dataframe_pfc_conrol.drop(columns ='Unnamed: 0')\n",
    "dataframe_pfc_mutation=pd.read_csv('PFC_Mutation.csv', sep=',')\n",
    "dataframe_pfc_mutation=dataframe_pfc_mutation.drop(columns ='Unnamed: 0')\n",
    "df_pfc=dataframe_pfc_mutation.merge(dataframe_pfc_conrol, how='outer')\n",
    "#hpc\n",
    "dataframe_hpc_conrol=pd.read_csv('HPC_Control.csv', sep=',')\n",
    "dataframe_hpc_conrol=dataframe_hpc_conrol.drop(columns ='Unnamed: 0')\n",
    "dataframe_hpc_mutation=pd.read_csv('HPC_Mutation.csv', sep=',')\n",
    "dataframe_hpc_mutation=dataframe_hpc_mutation.drop(columns ='Unnamed: 0')\n",
    "df_hpc=dataframe_hpc_mutation.merge(dataframe_hpc_conrol, how='outer')\n",
    "#Mutation\n",
    "df_mutation=dataframe_pfc_mutation.merge(dataframe_hpc_mutation, how='outer')\n",
    "\n",
    "#control\n",
    "df_control=dataframe_pfc_conrol.merge(dataframe_hpc_conrol, how='outer')\n"
   ]
  },
  {
   "cell_type": "code",
   "execution_count": null,
   "id": "d0455a50",
   "metadata": {
    "scrolled": true
   },
   "outputs": [],
   "source": [
    "def average(df_r, m, nperseg=100, scale=10, step=2):\n",
    "    length =np.inf\n",
    "    dataframe = df(columns = ['Rat', 'Condition', 'Epoch','MC','Region','Spectral Analysis Power', 'Spectral Analysis Frequency', 'REM_Data'])\n",
    "    dataframe['Spectral Analysis Power'] = dataframe['Spectral Analysis Power'].astype(object)\n",
    "    dataframe['Spectral Analysis Frequency'] = dataframe['Spectral Analysis Frequency'].astype(object)\n",
    "    dataframe['REM_Data'] = dataframe['REM_Data'].astype(object)\n",
    "    print(set(df_r.Rat.values))\n",
    "    for rats in set(df_r.Rat.values):\n",
    "        if rats !=5:\n",
    "            print('Rat',rats)\n",
    "            data =df_r.loc[(df_r.Rat==rats), 'REM Data']\n",
    "            mc = df_r.loc[(df_r.Rat==rats), 'MC'].values[0]\n",
    "            region = df_r.loc[(df_r.Rat==rats), 'Region'].values[0]\n",
    "            length_data = int(np.array([len([float(num) for num in d.split(',')[1:-1]]) for d in data]).mean())\n",
    "            epochd = np.zeros([length_data])\n",
    "            e=1\n",
    "            for d in data:\n",
    "                d = [float(num) for num in d.split(',')[1:-1]]\n",
    "                #expell small rem cycles\n",
    "                if len(d) >= (length_data):\n",
    "                    lfp=np.array(d)\n",
    "                    #spectral plot decibel welch\n",
    "                    x = lfp\n",
    "#                     print(x)\n",
    "                    N = x.shape[0]\n",
    "                    t = np.array(range(len(x)))\n",
    "                    dt = t[1]-t[0]\n",
    "                    T = t[-1]\n",
    "                    x = x - x.mean()\n",
    "                    f,pxx = welch(x, step, nperseg=N//nperseg)    # Compute Power spectral density Welch\n",
    "                    Sxx = 2 * dt ** 2 / T * (pxx * conj(pxx)) # Compute spectrum\n",
    "#                     ylabel('Power [dB]')\n",
    "#                     xlabel('Frequency[Hz]')\n",
    "#                     plot(f*1000, (scale*log10(Sxx / max(Sxx))))\n",
    "        #             xlim([0,200])\n",
    "        #             savefig('Averaged/%s_Rat%i_Averaged_2_100_20' %(region,rats))\n",
    "#                     show()\n",
    "                    #color plot\n",
    "        #             Fs = 1 / dt               # Define the sampling frequency,\n",
    "        #             interval = int(N/50)        # ... the interval size,\n",
    "        #             overlap = int(interval*0.5)  # ... and the overlap intervals\n",
    "\n",
    "        #                                       Compute the spectrogram\n",
    "        #             f, t, Sxx = spectrogram(\n",
    "        #                 x,                  # Provide the signal,\n",
    "        #                 fs=Fs,                # ... the sampling frequency,\n",
    "        #                 nperseg=interval,     # ... the length of a segment,\n",
    "        #                 noverlap=overlap)     # ... the number of samples to overlap,\n",
    "        #             pcolormesh(t, f*1000, 10 * log10(Sxx),\n",
    "        #                            cmap='jet')# Plot the result\n",
    "        #             colorbar()                # ... with a color bar,\n",
    "        #             xlabel('Time [s]')        # ... and label the axes\n",
    "        #             ylabel('Frequency [Hz]')\n",
    "        #             savefig('Averaged/%s_Rat%i_Averaged_Spectrogram_10', %(region,rats))\n",
    "            #         show()\n",
    "                    dataframe  = dataframe.append({'Rat': rats, 'Condition': 'Overlapping','Epoch':e, 'MC':mc,'Region':region,\\\n",
    "                                                      'Spectral Analysis Power': (10*log10(Sxx / max(Sxx))).tolist(), 'Spectral Analysis Frequency':(f*1000).tolist(), 'REM_Data':x.tolist()}, ignore_index=True)\n",
    "                    e+=1\n",
    "\n",
    "    return dataframe\n",
    "        "
   ]
  },
  {
   "cell_type": "code",
   "execution_count": null,
   "id": "d2433292",
   "metadata": {
    "scrolled": true
   },
   "outputs": [],
   "source": [
    "# dataframe_hpc_control = average(dataframe_hpc_conrol, 100, scale=10)\n",
    "# dataframe_hpc_control.to_csv('HPC_control_100_2_10.csv', sep = ',',index=False)\n",
    "\n",
    "# dataframe_pfc_control=average(dataframe_pfc_conrol,100,scale=10)\n",
    "# dataframe_pfc_control.to_csv('PFC_control_100_2_10.csv', sep = ',',index=False)\n",
    "\n",
    "# dataframe_hpc_mutation = average(dataframe_hpc_mutation, 100, scale=10)\n",
    "# dataframe_hpc_mutation.to_csv('HPC_mutation_100_2_10.csv', sep = ',',index=False)\n",
    "# dataframe_pfc_mutation=average(dataframe_pfc_mutation,100,scale=10)\n",
    "# dataframe_pfc_mutation.to_csv('PFC_mutation_100_2_10.csv', sep = ',',index=False)\n",
    "dataframe_hpc = average(df_hpc, 100,scale=10)\n",
    "dataframe_pfc = average(df_pfc, 100,scale=10)\n"
   ]
  },
  {
   "cell_type": "code",
   "execution_count": null,
   "id": "b5bcecca",
   "metadata": {},
   "outputs": [],
   "source": [
    "dataframe = pd.concat([dataframe_hpc, dataframe_pfc],ignore_index=True, sort=False)"
   ]
  },
  {
   "cell_type": "code",
   "execution_count": null,
   "id": "301c4c8e",
   "metadata": {},
   "outputs": [],
   "source": [
    "dataframe.to_csv('Merged_100_2_10.csv', sep = ',',index=False)"
   ]
  }
 ],
 "metadata": {
  "kernelspec": {
   "display_name": "Python 3 (ipykernel)",
   "language": "python",
   "name": "python3"
  },
  "language_info": {
   "codemirror_mode": {
    "name": "ipython",
    "version": 3
   },
   "file_extension": ".py",
   "mimetype": "text/x-python",
   "name": "python",
   "nbconvert_exporter": "python",
   "pygments_lexer": "ipython3",
   "version": "3.8.10"
  }
 },
 "nbformat": 4,
 "nbformat_minor": 5
}
